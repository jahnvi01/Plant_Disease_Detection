{
  "nbformat": 4,
  "nbformat_minor": 0,
  "metadata": {
    "colab": {
      "name": "Plant_Disease_Detection1.ipynb",
      "provenance": [],
      "collapsed_sections": [],
      "machine_shape": "hm"
    },
    "kernelspec": {
      "name": "python3",
      "display_name": "Python 3"
    },
    "accelerator": "TPU"
  },
  "cells": [
    {
      "cell_type": "code",
      "metadata": {
        "id": "nHuwgTuOvybt",
        "colab_type": "code",
        "colab": {}
      },
      "source": [
        "!pip install -q kaggle"
      ],
      "execution_count": 0,
      "outputs": []
    },
    {
      "cell_type": "code",
      "metadata": {
        "id": "9myCKigEwrgk",
        "colab_type": "code",
        "colab": {}
      },
      "source": [
        "!mkdir -p ~/.kaggle"
      ],
      "execution_count": 0,
      "outputs": []
    },
    {
      "cell_type": "code",
      "metadata": {
        "id": "8KaQjNEnw6cD",
        "colab_type": "code",
        "colab": {}
      },
      "source": [
        "!cp kaggle.json ~/.kaggle/"
      ],
      "execution_count": 0,
      "outputs": []
    },
    {
      "cell_type": "code",
      "metadata": {
        "id": "5ybrEyRCxI4a",
        "colab_type": "code",
        "colab": {}
      },
      "source": [
        "!chmod 600 ~/.kaggle/kaggle.json"
      ],
      "execution_count": 0,
      "outputs": []
    },
    {
      "cell_type": "code",
      "metadata": {
        "id": "jWgkyxjnxXOr",
        "colab_type": "code",
        "outputId": "c8c80ad6-23fc-4b88-d41f-0975cbf9bda2",
        "colab": {
          "base_uri": "https://localhost:8080/",
          "height": 1000
        }
      },
      "source": [
        "!kaggle competitions download -c plant-pathology-2020-fgvc7\n"
      ],
      "execution_count": 0,
      "outputs": [
        {
          "output_type": "stream",
          "text": [
            "Warning: Looks like you're using an outdated API Version, please consider updating (server 1.5.6 / client 1.5.4)\n",
            "Downloading Test_1013.jpg to /content\n",
            "  0% 0.00/170k [00:00<?, ?B/s]\n",
            "100% 170k/170k [00:00<00:00, 64.9MB/s]\n",
            "Downloading Test_1000.jpg to /content\n",
            "  0% 0.00/238k [00:00<?, ?B/s]\n",
            "100% 238k/238k [00:00<00:00, 76.7MB/s]\n",
            "Downloading Test_101.jpg to /content\n",
            "  0% 0.00/204k [00:00<?, ?B/s]\n",
            "100% 204k/204k [00:00<00:00, 57.5MB/s]\n",
            "Downloading Test_100.jpg to /content\n",
            "  0% 0.00/275k [00:00<?, ?B/s]\n",
            "100% 275k/275k [00:00<00:00, 82.5MB/s]\n",
            "Downloading Test_1003.jpg to /content\n",
            "  0% 0.00/213k [00:00<?, ?B/s]\n",
            "100% 213k/213k [00:00<00:00, 68.2MB/s]\n",
            "Downloading Test_1004.jpg to /content\n",
            "  0% 0.00/232k [00:00<?, ?B/s]\n",
            "100% 232k/232k [00:00<00:00, 70.0MB/s]\n",
            "Downloading Test_1010.jpg to /content\n",
            "  0% 0.00/283k [00:00<?, ?B/s]\n",
            "100% 283k/283k [00:00<00:00, 81.7MB/s]\n",
            "Downloading Test_1006.jpg to /content\n",
            "  0% 0.00/207k [00:00<?, ?B/s]\n",
            "100% 207k/207k [00:00<00:00, 66.7MB/s]\n",
            "Downloading Test_1001.jpg to /content\n",
            "  0% 0.00/226k [00:00<?, ?B/s]\n",
            "100% 226k/226k [00:00<00:00, 68.1MB/s]\n",
            "Downloading Test_10.jpg to /content\n",
            "  0% 0.00/245k [00:00<?, ?B/s]\n",
            "100% 245k/245k [00:00<00:00, 73.4MB/s]\n",
            "Downloading Test_1002.jpg to /content\n",
            "  0% 0.00/214k [00:00<?, ?B/s]\n",
            "100% 214k/214k [00:00<00:00, 66.9MB/s]\n",
            "Downloading Test_1.jpg to /content\n",
            "  0% 0.00/294k [00:00<?, ?B/s]\n",
            "100% 294k/294k [00:00<00:00, 93.0MB/s]\n",
            "Downloading Test_1014.jpg to /content\n",
            "  0% 0.00/218k [00:00<?, ?B/s]\n",
            "100% 218k/218k [00:00<00:00, 69.4MB/s]\n",
            "Downloading Test_1005.jpg to /content\n",
            "  0% 0.00/180k [00:00<?, ?B/s]\n",
            "100% 180k/180k [00:00<00:00, 179MB/s]\n",
            "Downloading Test_1012.jpg to /content\n",
            "  0% 0.00/174k [00:00<?, ?B/s]\n",
            "100% 174k/174k [00:00<00:00, 180MB/s]\n",
            "Downloading Test_0.jpg to /content\n",
            "  0% 0.00/227k [00:00<?, ?B/s]\n",
            "100% 227k/227k [00:00<00:00, 70.6MB/s]\n",
            "Downloading Test_1011.jpg to /content\n",
            "  0% 0.00/290k [00:00<?, ?B/s]\n",
            "100% 290k/290k [00:00<00:00, 89.1MB/s]\n",
            "Downloading Test_1009.jpg to /content\n",
            "  0% 0.00/220k [00:00<?, ?B/s]\n",
            "100% 220k/220k [00:00<00:00, 181MB/s]\n",
            "Downloading Test_1007.jpg to /content\n",
            "  0% 0.00/124k [00:00<?, ?B/s]\n",
            "100% 124k/124k [00:00<00:00, 138MB/s]\n",
            "Downloading Test_1008.jpg to /content\n",
            "  0% 0.00/274k [00:00<?, ?B/s]\n",
            "100% 274k/274k [00:00<00:00, 78.8MB/s]\n",
            "Downloading train.csv to /content\n",
            "  0% 0.00/32.7k [00:00<?, ?B/s]\n",
            "100% 32.7k/32.7k [00:00<00:00, 33.7MB/s]\n",
            "Downloading test.csv to /content\n",
            "  0% 0.00/16.7k [00:00<?, ?B/s]\n",
            "100% 16.7k/16.7k [00:00<00:00, 15.6MB/s]\n",
            "Downloading sample_submission.csv to /content\n",
            "  0% 0.00/52.3k [00:00<?, ?B/s]\n",
            "100% 52.3k/52.3k [00:00<00:00, 46.8MB/s]\n"
          ],
          "name": "stdout"
        }
      ]
    },
    {
      "cell_type": "code",
      "metadata": {
        "id": "jP9_Db5F1ayr",
        "colab_type": "code",
        "colab": {}
      },
      "source": [
        "import numpy as np\n",
        "import pandas as pd\n",
        "import matplotlib.pyplot as plt\n",
        "import tensorflow as tf"
      ],
      "execution_count": 0,
      "outputs": []
    },
    {
      "cell_type": "code",
      "metadata": {
        "id": "8KXuObj1zfeA",
        "colab_type": "code",
        "outputId": "5866a1b1-abf3-4e80-85ed-fc176674163a",
        "colab": {
          "base_uri": "https://localhost:8080/",
          "height": 419
        }
      },
      "source": [
        "df = pd.read_csv('/content/train.csv')\n",
        "df"
      ],
      "execution_count": 0,
      "outputs": [
        {
          "output_type": "execute_result",
          "data": {
            "text/html": [
              "<div>\n",
              "<style scoped>\n",
              "    .dataframe tbody tr th:only-of-type {\n",
              "        vertical-align: middle;\n",
              "    }\n",
              "\n",
              "    .dataframe tbody tr th {\n",
              "        vertical-align: top;\n",
              "    }\n",
              "\n",
              "    .dataframe thead th {\n",
              "        text-align: right;\n",
              "    }\n",
              "</style>\n",
              "<table border=\"1\" class=\"dataframe\">\n",
              "  <thead>\n",
              "    <tr style=\"text-align: right;\">\n",
              "      <th></th>\n",
              "      <th>image_id</th>\n",
              "      <th>healthy</th>\n",
              "      <th>multiple_diseases</th>\n",
              "      <th>rust</th>\n",
              "      <th>scab</th>\n",
              "    </tr>\n",
              "  </thead>\n",
              "  <tbody>\n",
              "    <tr>\n",
              "      <th>0</th>\n",
              "      <td>Train_0</td>\n",
              "      <td>0</td>\n",
              "      <td>0</td>\n",
              "      <td>0</td>\n",
              "      <td>1</td>\n",
              "    </tr>\n",
              "    <tr>\n",
              "      <th>1</th>\n",
              "      <td>Train_1</td>\n",
              "      <td>0</td>\n",
              "      <td>1</td>\n",
              "      <td>0</td>\n",
              "      <td>0</td>\n",
              "    </tr>\n",
              "    <tr>\n",
              "      <th>2</th>\n",
              "      <td>Train_2</td>\n",
              "      <td>1</td>\n",
              "      <td>0</td>\n",
              "      <td>0</td>\n",
              "      <td>0</td>\n",
              "    </tr>\n",
              "    <tr>\n",
              "      <th>3</th>\n",
              "      <td>Train_3</td>\n",
              "      <td>0</td>\n",
              "      <td>0</td>\n",
              "      <td>1</td>\n",
              "      <td>0</td>\n",
              "    </tr>\n",
              "    <tr>\n",
              "      <th>4</th>\n",
              "      <td>Train_4</td>\n",
              "      <td>1</td>\n",
              "      <td>0</td>\n",
              "      <td>0</td>\n",
              "      <td>0</td>\n",
              "    </tr>\n",
              "    <tr>\n",
              "      <th>...</th>\n",
              "      <td>...</td>\n",
              "      <td>...</td>\n",
              "      <td>...</td>\n",
              "      <td>...</td>\n",
              "      <td>...</td>\n",
              "    </tr>\n",
              "    <tr>\n",
              "      <th>1816</th>\n",
              "      <td>Train_1816</td>\n",
              "      <td>0</td>\n",
              "      <td>0</td>\n",
              "      <td>0</td>\n",
              "      <td>1</td>\n",
              "    </tr>\n",
              "    <tr>\n",
              "      <th>1817</th>\n",
              "      <td>Train_1817</td>\n",
              "      <td>1</td>\n",
              "      <td>0</td>\n",
              "      <td>0</td>\n",
              "      <td>0</td>\n",
              "    </tr>\n",
              "    <tr>\n",
              "      <th>1818</th>\n",
              "      <td>Train_1818</td>\n",
              "      <td>1</td>\n",
              "      <td>0</td>\n",
              "      <td>0</td>\n",
              "      <td>0</td>\n",
              "    </tr>\n",
              "    <tr>\n",
              "      <th>1819</th>\n",
              "      <td>Train_1819</td>\n",
              "      <td>0</td>\n",
              "      <td>0</td>\n",
              "      <td>1</td>\n",
              "      <td>0</td>\n",
              "    </tr>\n",
              "    <tr>\n",
              "      <th>1820</th>\n",
              "      <td>Train_1820</td>\n",
              "      <td>0</td>\n",
              "      <td>0</td>\n",
              "      <td>0</td>\n",
              "      <td>1</td>\n",
              "    </tr>\n",
              "  </tbody>\n",
              "</table>\n",
              "<p>1821 rows × 5 columns</p>\n",
              "</div>"
            ],
            "text/plain": [
              "        image_id  healthy  multiple_diseases  rust  scab\n",
              "0        Train_0        0                  0     0     1\n",
              "1        Train_1        0                  1     0     0\n",
              "2        Train_2        1                  0     0     0\n",
              "3        Train_3        0                  0     1     0\n",
              "4        Train_4        1                  0     0     0\n",
              "...          ...      ...                ...   ...   ...\n",
              "1816  Train_1816        0                  0     0     1\n",
              "1817  Train_1817        1                  0     0     0\n",
              "1818  Train_1818        1                  0     0     0\n",
              "1819  Train_1819        0                  0     1     0\n",
              "1820  Train_1820        0                  0     0     1\n",
              "\n",
              "[1821 rows x 5 columns]"
            ]
          },
          "metadata": {
            "tags": []
          },
          "execution_count": 9
        }
      ]
    },
    {
      "cell_type": "code",
      "metadata": {
        "id": "SlF3g9xt5Qbt",
        "colab_type": "code",
        "colab": {}
      },
      "source": [
        "from tensorflow.keras.preprocessing import image\n",
        "X = []\n",
        "width = 80\n",
        "height = 80\n",
        "for i in range(df.shape[0]):\n",
        "  path = '/content/drive/My Drive/images/'+df['image_id'][i]+'.jpg'\n",
        "  img=image.load_img(path,target_size=(width,height,3))  \n",
        "  img=image.img_to_array(img)\n",
        "  img=img/255.0\n",
        "  X.append(img)\n"
      ],
      "execution_count": 0,
      "outputs": []
    },
    {
      "cell_type": "code",
      "metadata": {
        "id": "TL0-YYZRLm95",
        "colab_type": "code",
        "outputId": "528d1ff4-566b-41d3-c8a0-c028a53e4889",
        "colab": {
          "base_uri": "https://localhost:8080/",
          "height": 850
        }
      },
      "source": [
        "X[0],len(X)"
      ],
      "execution_count": 0,
      "outputs": [
        {
          "output_type": "execute_result",
          "data": {
            "text/plain": [
              "(array([[[0.13333334, 0.20392157, 0.05490196],\n",
              "         [0.15294118, 0.22352941, 0.05882353],\n",
              "         [0.1764706 , 0.24705882, 0.08235294],\n",
              "         ...,\n",
              "         [0.14901961, 0.21176471, 0.06666667],\n",
              "         [0.18039216, 0.21568628, 0.10196079],\n",
              "         [0.19607843, 0.23529412, 0.10196079]],\n",
              " \n",
              "        [[0.12941177, 0.2       , 0.05098039],\n",
              "         [0.14509805, 0.21568628, 0.05098039],\n",
              "         [0.15686275, 0.23921569, 0.07058824],\n",
              "         ...,\n",
              "         [0.18039216, 0.21960784, 0.11372549],\n",
              "         [0.14117648, 0.2       , 0.08627451],\n",
              "         [0.16078432, 0.22352941, 0.08235294]],\n",
              " \n",
              "        [[0.15686275, 0.24313726, 0.0627451 ],\n",
              "         [0.13725491, 0.21960784, 0.05882353],\n",
              "         [0.14117648, 0.22352941, 0.0627451 ],\n",
              "         ...,\n",
              "         [0.14117648, 0.20784314, 0.07450981],\n",
              "         [0.1254902 , 0.20392157, 0.05882353],\n",
              "         [0.14901961, 0.23137255, 0.0627451 ]],\n",
              " \n",
              "        ...,\n",
              " \n",
              "        [[0.7058824 , 0.7058824 , 0.42352942],\n",
              "         [0.7058824 , 0.68235296, 0.45490196],\n",
              "         [0.68235296, 0.6431373 , 0.4509804 ],\n",
              "         ...,\n",
              "         [0.7529412 , 0.8235294 , 0.5803922 ],\n",
              "         [0.8117647 , 0.84313726, 0.41568628],\n",
              "         [0.8117647 , 0.85882354, 0.6627451 ]],\n",
              " \n",
              "        [[0.7176471 , 0.6862745 , 0.4392157 ],\n",
              "         [0.69803923, 0.64705884, 0.47058824],\n",
              "         [0.69411767, 0.6       , 0.45882353],\n",
              "         ...,\n",
              "         [0.8352941 , 0.88235295, 0.7019608 ],\n",
              "         [0.6901961 , 0.77254903, 0.5411765 ],\n",
              "         [0.8392157 , 0.88235295, 0.654902  ]],\n",
              " \n",
              "        [[0.7137255 , 0.6745098 , 0.4745098 ],\n",
              "         [0.70980394, 0.6313726 , 0.4862745 ],\n",
              "         [0.6901961 , 0.5882353 , 0.48235294],\n",
              "         ...,\n",
              "         [0.79607844, 0.827451  , 0.5019608 ],\n",
              "         [0.8509804 , 0.8784314 , 0.7490196 ],\n",
              "         [0.7647059 , 0.827451  , 0.6862745 ]]], dtype=float32), 1821)"
            ]
          },
          "metadata": {
            "tags": []
          },
          "execution_count": 88
        }
      ]
    },
    {
      "cell_type": "code",
      "metadata": {
        "id": "qFsvo6mOUsXa",
        "colab_type": "code",
        "outputId": "c70500ba-92a8-4f23-9de7-04d72c4694ed",
        "colab": {
          "base_uri": "https://localhost:8080/",
          "height": 54
        }
      },
      "source": [
        "from google.colab import drive\n",
        "drive.mount('/content/drive')"
      ],
      "execution_count": 0,
      "outputs": [
        {
          "output_type": "stream",
          "text": [
            "Drive already mounted at /content/drive; to attempt to forcibly remount, call drive.mount(\"/content/drive\", force_remount=True).\n"
          ],
          "name": "stdout"
        }
      ]
    },
    {
      "cell_type": "code",
      "metadata": {
        "id": "jTcV2CpeNZK5",
        "colab_type": "code",
        "outputId": "21735cfb-254f-49c5-d64f-2ffc51fbe4db",
        "colab": {
          "base_uri": "https://localhost:8080/",
          "height": 34
        }
      },
      "source": [
        "y = df.drop('image_id',axis=1)\n",
        "y = y.to_numpy()\n",
        "\n",
        "X=np.array(X)\n",
        "y.shape"
      ],
      "execution_count": 0,
      "outputs": [
        {
          "output_type": "execute_result",
          "data": {
            "text/plain": [
              "(1821, 4)"
            ]
          },
          "metadata": {
            "tags": []
          },
          "execution_count": 89
        }
      ]
    },
    {
      "cell_type": "code",
      "metadata": {
        "id": "LUYpdqu5MaJb",
        "colab_type": "code",
        "outputId": "cc74c3ee-0827-4af4-e8c9-799fb067cc22",
        "colab": {
          "base_uri": "https://localhost:8080/",
          "height": 269
        }
      },
      "source": [
        "from PIL import Image as PImage\n",
        "\n",
        "img = PImage.open('/content/drive/My Drive/images/'+df['image_id'][0]+'.jpg')\n",
        "plt.imshow(img)\n",
        "plt.show()"
      ],
      "execution_count": 0,
      "outputs": [
        {
          "output_type": "display_data",
          "data": {
            "image/png": "[encoded data removed]",
            "text/plain": [
              "<Figure size 432x288 with 1 Axes>"
            ]
          },
          "metadata": {
            "tags": [],
            "needs_background": "light"
          }
        }
      ]
    },
    {
      "cell_type": "code",
      "metadata": {
        "id": "x5nIekwdNklc",
        "colab_type": "code",
        "outputId": "081bbb93-fa56-4a02-e8b2-321274a749da",
        "colab": {
          "base_uri": "https://localhost:8080/",
          "height": 34
        }
      },
      "source": [
        "from sklearn.model_selection import train_test_split\n",
        "print(X.shape,y.shape)\n",
        "X_train,X_test,y_train,y_test=train_test_split(X,y,test_size=0.15)\n"
      ],
      "execution_count": 0,
      "outputs": [
        {
          "output_type": "stream",
          "text": [
            "(1821, 80, 80, 3) (1821, 4)\n"
          ],
          "name": "stdout"
        }
      ]
    },
    {
      "cell_type": "code",
      "metadata": {
        "id": "uL66nh7qO4Bz",
        "colab_type": "code",
        "outputId": "38bb627a-37a1-4680-ca6a-fe7c0e159f49",
        "colab": {
          "base_uri": "https://localhost:8080/",
          "height": 34
        }
      },
      "source": [
        "\n",
        "len(X_train),len(y_train),len(X_test),len(y_test)\n"
      ],
      "execution_count": 0,
      "outputs": [
        {
          "output_type": "execute_result",
          "data": {
            "text/plain": [
              "(1547, 1547, 274, 274)"
            ]
          },
          "metadata": {
            "tags": []
          },
          "execution_count": 92
        }
      ]
    },
    {
      "cell_type": "code",
      "metadata": {
        "id": "I04G3Wn-L-2U",
        "colab_type": "code",
        "outputId": "bf31d653-ccb0-426b-9f76-2629cee34f6d",
        "colab": {
          "base_uri": "https://localhost:8080/",
          "height": 527
        }
      },
      "source": [
        "model = tf.keras.models.Sequential([\n",
        "   \n",
        "    tf.keras.layers.Conv2D(32, (3,3), activation='relu', input_shape=X_train[0].shape),\n",
        "\n",
        "    tf.keras.layers.MaxPooling2D(2,2),\n",
        "\n",
        "    tf.keras.layers.Conv2D(32, (3,3), activation='relu'), \n",
        "    tf.keras.layers.MaxPooling2D(2,2),\n",
        "\n",
        "    tf.keras.layers.Conv2D(32, (3,3), activation='relu'), \n",
        "    tf.keras.layers.MaxPooling2D(2,2),\n",
        "\n",
        "\n",
        "    tf.keras.layers.Conv2D(32, (3,3), activation='relu'), \n",
        "    tf.keras.layers.MaxPooling2D(2,2),\n",
        "   \n",
        "    tf.keras.layers.Flatten(), \n",
        "  \n",
        "    tf.keras.layers.Dense(1028, activation='relu'), \n",
        "  \n",
        "    tf.keras.layers.Dense(4, activation='sigmoid')  \n",
        "])\n",
        "model.summary()\n"
      ],
      "execution_count": 0,
      "outputs": [
        {
          "output_type": "stream",
          "text": [
            "Model: \"sequential_27\"\n",
            "_________________________________________________________________\n",
            "Layer (type)                 Output Shape              Param #   \n",
            "=================================================================\n",
            "conv2d_98 (Conv2D)           (None, 78, 78, 32)        896       \n",
            "_________________________________________________________________\n",
            "max_pooling2d_98 (MaxPooling (None, 39, 39, 32)        0         \n",
            "_________________________________________________________________\n",
            "conv2d_99 (Conv2D)           (None, 37, 37, 32)        9248      \n",
            "_________________________________________________________________\n",
            "max_pooling2d_99 (MaxPooling (None, 18, 18, 32)        0         \n",
            "_________________________________________________________________\n",
            "conv2d_100 (Conv2D)          (None, 16, 16, 32)        9248      \n",
            "_________________________________________________________________\n",
            "max_pooling2d_100 (MaxPoolin (None, 8, 8, 32)          0         \n",
            "_________________________________________________________________\n",
            "conv2d_101 (Conv2D)          (None, 6, 6, 32)          9248      \n",
            "_________________________________________________________________\n",
            "max_pooling2d_101 (MaxPoolin (None, 3, 3, 32)          0         \n",
            "_________________________________________________________________\n",
            "flatten_27 (Flatten)         (None, 288)               0         \n",
            "_________________________________________________________________\n",
            "dense_54 (Dense)             (None, 1028)              297092    \n",
            "_________________________________________________________________\n",
            "dense_55 (Dense)             (None, 4)                 4116      \n",
            "=================================================================\n",
            "Total params: 329,848\n",
            "Trainable params: 329,848\n",
            "Non-trainable params: 0\n",
            "_________________________________________________________________\n"
          ],
          "name": "stdout"
        }
      ]
    },
    {
      "cell_type": "code",
      "metadata": {
        "id": "uWyv1yD_qyUT",
        "colab_type": "code",
        "colab": {}
      },
      "source": [
        ""
      ],
      "execution_count": 0,
      "outputs": []
    },
    {
      "cell_type": "code",
      "metadata": {
        "id": "yALdLyM0OGMU",
        "colab_type": "code",
        "colab": {}
      },
      "source": [
        "model.compile(optimizer='adam',loss='binary_crossentropy',metrics=['accuracy'])\n",
        "\n"
      ],
      "execution_count": 0,
      "outputs": []
    },
    {
      "cell_type": "code",
      "metadata": {
        "id": "QMn0OF12OH5y",
        "colab_type": "code",
        "outputId": "319dcfe4-f2eb-4bec-eb1a-53a5bd09567e",
        "colab": {
          "base_uri": "https://localhost:8080/",
          "height": 887
        }
      },
      "source": [
        "history = model.fit(X_train,y_train,epochs=25,validation_data=(X_test,y_test))\n"
      ],
      "execution_count": 0,
      "outputs": [
        {
          "output_type": "stream",
          "text": [
            "Epoch 1/25\n",
            "49/49 [==============================] - 2s 38ms/step - loss: 0.5315 - accuracy: 0.3264 - val_loss: 0.5195 - val_accuracy: 0.3212\n",
            "Epoch 2/25\n",
            "49/49 [==============================] - 2s 36ms/step - loss: 0.5163 - accuracy: 0.3432 - val_loss: 0.5222 - val_accuracy: 0.3577\n",
            "Epoch 3/25\n",
            "49/49 [==============================] - 2s 34ms/step - loss: 0.5106 - accuracy: 0.3762 - val_loss: 0.5227 - val_accuracy: 0.3942\n",
            "Epoch 4/25\n",
            "49/49 [==============================] - 2s 34ms/step - loss: 0.4996 - accuracy: 0.4402 - val_loss: 0.5053 - val_accuracy: 0.4599\n",
            "Epoch 5/25\n",
            "49/49 [==============================] - 2s 34ms/step - loss: 0.4854 - accuracy: 0.4764 - val_loss: 0.4856 - val_accuracy: 0.5146\n",
            "Epoch 6/25\n",
            "49/49 [==============================] - 2s 35ms/step - loss: 0.4665 - accuracy: 0.5229 - val_loss: 0.4677 - val_accuracy: 0.5292\n",
            "Epoch 7/25\n",
            "49/49 [==============================] - 2s 34ms/step - loss: 0.4438 - accuracy: 0.5553 - val_loss: 0.4489 - val_accuracy: 0.5511\n",
            "Epoch 8/25\n",
            "49/49 [==============================] - 2s 34ms/step - loss: 0.4081 - accuracy: 0.6102 - val_loss: 0.3789 - val_accuracy: 0.7007\n",
            "Epoch 9/25\n",
            "49/49 [==============================] - 2s 34ms/step - loss: 0.3481 - accuracy: 0.6826 - val_loss: 0.3589 - val_accuracy: 0.6934\n",
            "Epoch 10/25\n",
            "49/49 [==============================] - 2s 33ms/step - loss: 0.3051 - accuracy: 0.7304 - val_loss: 0.3227 - val_accuracy: 0.7007\n",
            "Epoch 11/25\n",
            "49/49 [==============================] - 2s 34ms/step - loss: 0.2856 - accuracy: 0.7531 - val_loss: 0.3041 - val_accuracy: 0.7263\n",
            "Epoch 12/25\n",
            "49/49 [==============================] - 2s 33ms/step - loss: 0.2555 - accuracy: 0.7712 - val_loss: 0.2682 - val_accuracy: 0.7555\n",
            "Epoch 13/25\n",
            "49/49 [==============================] - 2s 35ms/step - loss: 0.2336 - accuracy: 0.7951 - val_loss: 0.2464 - val_accuracy: 0.8285\n",
            "Epoch 14/25\n",
            "49/49 [==============================] - 2s 34ms/step - loss: 0.2213 - accuracy: 0.8125 - val_loss: 0.2489 - val_accuracy: 0.8139\n",
            "Epoch 15/25\n",
            "49/49 [==============================] - 2s 34ms/step - loss: 0.1860 - accuracy: 0.8546 - val_loss: 0.2376 - val_accuracy: 0.8212\n",
            "Epoch 16/25\n",
            "49/49 [==============================] - 2s 34ms/step - loss: 0.1623 - accuracy: 0.8772 - val_loss: 0.2237 - val_accuracy: 0.8431\n",
            "Epoch 17/25\n",
            "49/49 [==============================] - 2s 34ms/step - loss: 0.1502 - accuracy: 0.8895 - val_loss: 0.2310 - val_accuracy: 0.8358\n",
            "Epoch 18/25\n",
            "49/49 [==============================] - 2s 35ms/step - loss: 0.1214 - accuracy: 0.9134 - val_loss: 0.2668 - val_accuracy: 0.8285\n",
            "Epoch 19/25\n",
            "49/49 [==============================] - 2s 35ms/step - loss: 0.1115 - accuracy: 0.9127 - val_loss: 0.2478 - val_accuracy: 0.8577\n",
            "Epoch 20/25\n",
            "49/49 [==============================] - 2s 34ms/step - loss: 0.0905 - accuracy: 0.9360 - val_loss: 0.2750 - val_accuracy: 0.8467\n",
            "Epoch 21/25\n",
            "49/49 [==============================] - 2s 34ms/step - loss: 0.0776 - accuracy: 0.9418 - val_loss: 0.2985 - val_accuracy: 0.8175\n",
            "Epoch 22/25\n",
            "49/49 [==============================] - 2s 34ms/step - loss: 0.0661 - accuracy: 0.9535 - val_loss: 0.2870 - val_accuracy: 0.8650\n",
            "Epoch 23/25\n",
            "49/49 [==============================] - 2s 34ms/step - loss: 0.0567 - accuracy: 0.9632 - val_loss: 0.2956 - val_accuracy: 0.8540\n",
            "Epoch 24/25\n",
            "49/49 [==============================] - 2s 34ms/step - loss: 0.0405 - accuracy: 0.9761 - val_loss: 0.3038 - val_accuracy: 0.8686\n",
            "Epoch 25/25\n",
            "49/49 [==============================] - 2s 34ms/step - loss: 0.0363 - accuracy: 0.9819 - val_loss: 0.3222 - val_accuracy: 0.8540\n"
          ],
          "name": "stdout"
        }
      ]
    },
    {
      "cell_type": "code",
      "metadata": {
        "id": "iwRKW0WD8SOT",
        "colab_type": "code",
        "outputId": "5a1d978b-33c0-4191-f131-6e79c9fd1e2d",
        "colab": {
          "base_uri": "https://localhost:8080/",
          "height": 579
        }
      },
      "source": [
        "acc=history.history['accuracy']\n",
        "val_acc=history.history['val_accuracy']\n",
        "loss=history.history['loss']\n",
        "val_loss=history.history['val_loss']\n",
        "\n",
        "epochs=range(len(acc))\n",
        "plt.plot(epochs, acc, 'r', \"Training Accuracy\")\n",
        "plt.plot(epochs, val_acc, 'b', \"Validation Accuracy\")\n",
        "plt.title('Training and validation accuracy')\n",
        "plt.figure()\n",
        "\n",
        "plt.plot(epochs, loss, 'r', \"Training Loss\")\n",
        "plt.plot(epochs, val_loss, 'b', \"Validation Loss\")\n",
        "\n",
        "\n",
        "plt.title('Training and validation loss')\n",
        "plt.figure()"
      ],
      "execution_count": 0,
      "outputs": [
        {
          "output_type": "execute_result",
          "data": {
            "text/plain": [
              "<Figure size 432x288 with 0 Axes>"
            ]
          },
          "metadata": {
            "tags": []
          },
          "execution_count": 141
        },
        {
          "output_type": "display_data",
          "data": {
            "image/png": "[encoded data removed]",
            "text/plain": [
              "<Figure size 432x288 with 1 Axes>"
            ]
          },
          "metadata": {
            "tags": [],
            "needs_background": "light"
          }
        },
        {
          "output_type": "display_data",
          "data": {
            "image/png": "[encoded data removed]",
            "text/plain": [
              "<Figure size 432x288 with 1 Axes>"
            ]
          },
          "metadata": {
            "tags": [],
            "needs_background": "light"
          }
        },
        {
          "output_type": "display_data",
          "data": {
            "text/plain": [
              "<Figure size 432x288 with 0 Axes>"
            ]
          },
          "metadata": {
            "tags": []
          }
        }
      ]
    },
    {
      "cell_type": "code",
      "metadata": {
        "id": "4Bl0tUK29doS",
        "colab_type": "code",
        "outputId": "a3b8b579-a316-4950-c9d7-2a64a1600819",
        "colab": {
          "base_uri": "https://localhost:8080/",
          "height": 419
        }
      },
      "source": [
        "df1 = pd.read_csv('/content/test.csv')\n",
        "df1"
      ],
      "execution_count": 0,
      "outputs": [
        {
          "output_type": "execute_result",
          "data": {
            "text/html": [
              "<div>\n",
              "<style scoped>\n",
              "    .dataframe tbody tr th:only-of-type {\n",
              "        vertical-align: middle;\n",
              "    }\n",
              "\n",
              "    .dataframe tbody tr th {\n",
              "        vertical-align: top;\n",
              "    }\n",
              "\n",
              "    .dataframe thead th {\n",
              "        text-align: right;\n",
              "    }\n",
              "</style>\n",
              "<table border=\"1\" class=\"dataframe\">\n",
              "  <thead>\n",
              "    <tr style=\"text-align: right;\">\n",
              "      <th></th>\n",
              "      <th>image_id</th>\n",
              "    </tr>\n",
              "  </thead>\n",
              "  <tbody>\n",
              "    <tr>\n",
              "      <th>0</th>\n",
              "      <td>Test_0</td>\n",
              "    </tr>\n",
              "    <tr>\n",
              "      <th>1</th>\n",
              "      <td>Test_1</td>\n",
              "    </tr>\n",
              "    <tr>\n",
              "      <th>2</th>\n",
              "      <td>Test_2</td>\n",
              "    </tr>\n",
              "    <tr>\n",
              "      <th>3</th>\n",
              "      <td>Test_3</td>\n",
              "    </tr>\n",
              "    <tr>\n",
              "      <th>4</th>\n",
              "      <td>Test_4</td>\n",
              "    </tr>\n",
              "    <tr>\n",
              "      <th>...</th>\n",
              "      <td>...</td>\n",
              "    </tr>\n",
              "    <tr>\n",
              "      <th>1816</th>\n",
              "      <td>Test_1816</td>\n",
              "    </tr>\n",
              "    <tr>\n",
              "      <th>1817</th>\n",
              "      <td>Test_1817</td>\n",
              "    </tr>\n",
              "    <tr>\n",
              "      <th>1818</th>\n",
              "      <td>Test_1818</td>\n",
              "    </tr>\n",
              "    <tr>\n",
              "      <th>1819</th>\n",
              "      <td>Test_1819</td>\n",
              "    </tr>\n",
              "    <tr>\n",
              "      <th>1820</th>\n",
              "      <td>Test_1820</td>\n",
              "    </tr>\n",
              "  </tbody>\n",
              "</table>\n",
              "<p>1821 rows × 1 columns</p>\n",
              "</div>"
            ],
            "text/plain": [
              "       image_id\n",
              "0        Test_0\n",
              "1        Test_1\n",
              "2        Test_2\n",
              "3        Test_3\n",
              "4        Test_4\n",
              "...         ...\n",
              "1816  Test_1816\n",
              "1817  Test_1817\n",
              "1818  Test_1818\n",
              "1819  Test_1819\n",
              "1820  Test_1820\n",
              "\n",
              "[1821 rows x 1 columns]"
            ]
          },
          "metadata": {
            "tags": []
          },
          "execution_count": 142
        }
      ]
    },
    {
      "cell_type": "code",
      "metadata": {
        "id": "CUPkPXXz9Wdv",
        "colab_type": "code",
        "colab": {}
      },
      "source": [
        "test = []\n",
        "width = 80\n",
        "height = 80\n",
        "for i in range(df1.shape[0]):\n",
        "  data=[]\n",
        "  path = '/content/drive/My Drive/images/'+df1['image_id'][i]+'.jpg'\n",
        "  img=image.load_img(path,target_size=(width,height,3))  \n",
        "  img=image.img_to_array(img)\n",
        "  data.append(df1['image_id'][i])\n",
        "  img=img/255.0\n",
        "  img = img.reshape(1,width,height,3)  \n",
        "  y_t=model.predict(img)\n",
        "  for y in np.nditer(y_t):\n",
        "    data.append(y)\n",
        "\n",
        "  test.append(data)\n"
      ],
      "execution_count": 0,
      "outputs": []
    },
    {
      "cell_type": "code",
      "metadata": {
        "id": "A62fNlGuFD_M",
        "colab_type": "code",
        "outputId": "2528226a-1817-41bb-9889-47ac1dbb6ee1",
        "colab": {
          "base_uri": "https://localhost:8080/",
          "height": 102
        }
      },
      "source": [
        "test[0]"
      ],
      "execution_count": 0,
      "outputs": [
        {
          "output_type": "execute_result",
          "data": {
            "text/plain": [
              "['Test_0',\n",
              " array(1.1559785e-11, dtype=float32),\n",
              " array(0.00062781, dtype=float32),\n",
              " array(0.9997272, dtype=float32),\n",
              " array(4.113156e-05, dtype=float32)]"
            ]
          },
          "metadata": {
            "tags": []
          },
          "execution_count": 149
        }
      ]
    },
    {
      "cell_type": "code",
      "metadata": {
        "id": "x5gogx6k8dAX",
        "colab_type": "code",
        "outputId": "fb02ce67-a3c9-4768-9934-85f9f9c50b7d",
        "colab": {
          "base_uri": "https://localhost:8080/",
          "height": 436
        }
      },
      "source": [
        "print(type(test))\n",
        "df2 = pd.DataFrame(test, \n",
        "               columns =['image_id', 'healthy','multiple_diseases','rust','scab'])\n",
        "df2 "
      ],
      "execution_count": 0,
      "outputs": [
        {
          "output_type": "stream",
          "text": [
            "<class 'list'>\n"
          ],
          "name": "stdout"
        },
        {
          "output_type": "execute_result",
          "data": {
            "text/html": [
              "<div>\n",
              "<style scoped>\n",
              "    .dataframe tbody tr th:only-of-type {\n",
              "        vertical-align: middle;\n",
              "    }\n",
              "\n",
              "    .dataframe tbody tr th {\n",
              "        vertical-align: top;\n",
              "    }\n",
              "\n",
              "    .dataframe thead th {\n",
              "        text-align: right;\n",
              "    }\n",
              "</style>\n",
              "<table border=\"1\" class=\"dataframe\">\n",
              "  <thead>\n",
              "    <tr style=\"text-align: right;\">\n",
              "      <th></th>\n",
              "      <th>image_id</th>\n",
              "      <th>healthy</th>\n",
              "      <th>multiple_diseases</th>\n",
              "      <th>rust</th>\n",
              "      <th>scab</th>\n",
              "    </tr>\n",
              "  </thead>\n",
              "  <tbody>\n",
              "    <tr>\n",
              "      <th>0</th>\n",
              "      <td>Test_0</td>\n",
              "      <td>1.1559785e-11</td>\n",
              "      <td>0.00062780676</td>\n",
              "      <td>0.9997272</td>\n",
              "      <td>4.113156e-05</td>\n",
              "    </tr>\n",
              "    <tr>\n",
              "      <th>1</th>\n",
              "      <td>Test_1</td>\n",
              "      <td>9.743636e-09</td>\n",
              "      <td>9.341834e-06</td>\n",
              "      <td>0.99999857</td>\n",
              "      <td>1.8248886e-05</td>\n",
              "    </tr>\n",
              "    <tr>\n",
              "      <th>2</th>\n",
              "      <td>Test_2</td>\n",
              "      <td>0.012134697</td>\n",
              "      <td>0.0014371702</td>\n",
              "      <td>4.0832592e-06</td>\n",
              "      <td>0.9886312</td>\n",
              "    </tr>\n",
              "    <tr>\n",
              "      <th>3</th>\n",
              "      <td>Test_3</td>\n",
              "      <td>0.40990728</td>\n",
              "      <td>0.008893381</td>\n",
              "      <td>0.00074120105</td>\n",
              "      <td>0.63586056</td>\n",
              "    </tr>\n",
              "    <tr>\n",
              "      <th>4</th>\n",
              "      <td>Test_4</td>\n",
              "      <td>1.7541265e-20</td>\n",
              "      <td>0.096150406</td>\n",
              "      <td>0.9268239</td>\n",
              "      <td>1.5103842e-13</td>\n",
              "    </tr>\n",
              "    <tr>\n",
              "      <th>...</th>\n",
              "      <td>...</td>\n",
              "      <td>...</td>\n",
              "      <td>...</td>\n",
              "      <td>...</td>\n",
              "      <td>...</td>\n",
              "    </tr>\n",
              "    <tr>\n",
              "      <th>1816</th>\n",
              "      <td>Test_1816</td>\n",
              "      <td>2.0420586e-12</td>\n",
              "      <td>0.30318412</td>\n",
              "      <td>0.9991277</td>\n",
              "      <td>2.904912e-10</td>\n",
              "    </tr>\n",
              "    <tr>\n",
              "      <th>1817</th>\n",
              "      <td>Test_1817</td>\n",
              "      <td>3.1698066e-05</td>\n",
              "      <td>0.45557418</td>\n",
              "      <td>0.0046929657</td>\n",
              "      <td>0.85194284</td>\n",
              "    </tr>\n",
              "    <tr>\n",
              "      <th>1818</th>\n",
              "      <td>Test_1818</td>\n",
              "      <td>0.0001186756</td>\n",
              "      <td>0.045795638</td>\n",
              "      <td>0.97877306</td>\n",
              "      <td>6.46511e-05</td>\n",
              "    </tr>\n",
              "    <tr>\n",
              "      <th>1819</th>\n",
              "      <td>Test_1819</td>\n",
              "      <td>0.9751466</td>\n",
              "      <td>0.001937542</td>\n",
              "      <td>0.00041463933</td>\n",
              "      <td>0.03184504</td>\n",
              "    </tr>\n",
              "    <tr>\n",
              "      <th>1820</th>\n",
              "      <td>Test_1820</td>\n",
              "      <td>0.010148301</td>\n",
              "      <td>0.0036063434</td>\n",
              "      <td>0.16795923</td>\n",
              "      <td>0.40692905</td>\n",
              "    </tr>\n",
              "  </tbody>\n",
              "</table>\n",
              "<p>1821 rows × 5 columns</p>\n",
              "</div>"
            ],
            "text/plain": [
              "       image_id        healthy multiple_diseases           rust           scab\n",
              "0        Test_0  1.1559785e-11     0.00062780676      0.9997272   4.113156e-05\n",
              "1        Test_1   9.743636e-09      9.341834e-06     0.99999857  1.8248886e-05\n",
              "2        Test_2    0.012134697      0.0014371702  4.0832592e-06      0.9886312\n",
              "3        Test_3     0.40990728       0.008893381  0.00074120105     0.63586056\n",
              "4        Test_4  1.7541265e-20       0.096150406      0.9268239  1.5103842e-13\n",
              "...         ...            ...               ...            ...            ...\n",
              "1816  Test_1816  2.0420586e-12        0.30318412      0.9991277   2.904912e-10\n",
              "1817  Test_1817  3.1698066e-05        0.45557418   0.0046929657     0.85194284\n",
              "1818  Test_1818   0.0001186756       0.045795638     0.97877306    6.46511e-05\n",
              "1819  Test_1819      0.9751466       0.001937542  0.00041463933     0.03184504\n",
              "1820  Test_1820    0.010148301      0.0036063434     0.16795923     0.40692905\n",
              "\n",
              "[1821 rows x 5 columns]"
            ]
          },
          "metadata": {
            "tags": []
          },
          "execution_count": 150
        }
      ]
    },
    {
      "cell_type": "code",
      "metadata": {
        "id": "ujPJ2tC0HGAa",
        "colab_type": "code",
        "colab": {}
      },
      "source": [
        "df2.to_csv('submission.csv', index = False)"
      ],
      "execution_count": 0,
      "outputs": []
    }
  ]
}